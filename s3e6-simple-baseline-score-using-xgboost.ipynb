{
 "cells": [
  {
   "cell_type": "markdown",
   "id": "f23650cc",
   "metadata": {
    "papermill": {
     "duration": 0.008723,
     "end_time": "2023-02-17T13:17:21.756129",
     "exception": false,
     "start_time": "2023-02-17T13:17:21.747406",
     "status": "completed"
    },
    "tags": []
   },
   "source": [
    "## The easiest and laziest way to get an RMSE < 180,000 \n",
    "**(Note to employers: I understand this is not best practice, I am not actually THIS lazy ).**"
   ]
  },
  {
   "cell_type": "markdown",
   "id": "922fc243",
   "metadata": {
    "papermill": {
     "duration": 0.003701,
     "end_time": "2023-02-17T13:17:21.764201",
     "exception": false,
     "start_time": "2023-02-17T13:17:21.760500",
     "status": "completed"
    },
    "tags": []
   },
   "source": [
    "Sometimes, less is more. Simplicity is often looked over when diving into a data science problem, and reasonably so! Here's a model that scored an RMSE of 172926.36 on the test data. "
   ]
  },
  {
   "cell_type": "code",
   "execution_count": 1,
   "id": "bf833f59",
   "metadata": {
    "execution": {
     "iopub.execute_input": "2023-02-17T13:17:21.775863Z",
     "iopub.status.busy": "2023-02-17T13:17:21.774603Z",
     "iopub.status.idle": "2023-02-17T13:17:23.225007Z",
     "shell.execute_reply": "2023-02-17T13:17:23.223501Z"
    },
    "papermill": {
     "duration": 1.460194,
     "end_time": "2023-02-17T13:17:23.228418",
     "exception": false,
     "start_time": "2023-02-17T13:17:21.768224",
     "status": "completed"
    },
    "tags": []
   },
   "outputs": [],
   "source": [
    "# Libraries\n",
    "import pandas as pd\n",
    "import numpy as np\n",
    "from xgboost import XGBRegressor\n",
    "import sklearn.metrics as metrics\n",
    "\n",
    "# A nice function for saving predictions in the proper submission format\n",
    "def submit(preds, submission_num):\n",
    "    submission_names = ['id', 'price']\n",
    "    num = str(submission_num)\n",
    "    sub = 'submission' + num + '.csv'\n",
    "    submission_df = pd.DataFrame([test_id, preds]).transpose()\n",
    "    submission_df.columns = submission_names\n",
    "    submission_df.to_csv(sub, index=False)\n"
   ]
  },
  {
   "cell_type": "code",
   "execution_count": 2,
   "id": "c27bd3b0",
   "metadata": {
    "execution": {
     "iopub.execute_input": "2023-02-17T13:17:23.240222Z",
     "iopub.status.busy": "2023-02-17T13:17:23.239025Z",
     "iopub.status.idle": "2023-02-17T13:17:23.357463Z",
     "shell.execute_reply": "2023-02-17T13:17:23.355969Z"
    },
    "papermill": {
     "duration": 0.128788,
     "end_time": "2023-02-17T13:17:23.361828",
     "exception": false,
     "start_time": "2023-02-17T13:17:23.233040",
     "status": "completed"
    },
    "tags": []
   },
   "outputs": [
    {
     "data": {
      "text/html": [
       "<div>\n",
       "<style scoped>\n",
       "    .dataframe tbody tr th:only-of-type {\n",
       "        vertical-align: middle;\n",
       "    }\n",
       "\n",
       "    .dataframe tbody tr th {\n",
       "        vertical-align: top;\n",
       "    }\n",
       "\n",
       "    .dataframe thead th {\n",
       "        text-align: right;\n",
       "    }\n",
       "</style>\n",
       "<table border=\"1\" class=\"dataframe\">\n",
       "  <thead>\n",
       "    <tr style=\"text-align: right;\">\n",
       "      <th></th>\n",
       "      <th>id</th>\n",
       "      <th>squareMeters</th>\n",
       "      <th>numberOfRooms</th>\n",
       "      <th>hasYard</th>\n",
       "      <th>hasPool</th>\n",
       "      <th>floors</th>\n",
       "      <th>cityCode</th>\n",
       "      <th>cityPartRange</th>\n",
       "      <th>numPrevOwners</th>\n",
       "      <th>made</th>\n",
       "      <th>isNewBuilt</th>\n",
       "      <th>hasStormProtector</th>\n",
       "      <th>basement</th>\n",
       "      <th>attic</th>\n",
       "      <th>garage</th>\n",
       "      <th>hasStorageRoom</th>\n",
       "      <th>hasGuestRoom</th>\n",
       "      <th>price</th>\n",
       "    </tr>\n",
       "  </thead>\n",
       "  <tbody>\n",
       "    <tr>\n",
       "      <th>0</th>\n",
       "      <td>0</td>\n",
       "      <td>34291</td>\n",
       "      <td>24</td>\n",
       "      <td>1</td>\n",
       "      <td>0</td>\n",
       "      <td>47</td>\n",
       "      <td>35693</td>\n",
       "      <td>2</td>\n",
       "      <td>1</td>\n",
       "      <td>2000</td>\n",
       "      <td>0</td>\n",
       "      <td>1</td>\n",
       "      <td>8</td>\n",
       "      <td>5196</td>\n",
       "      <td>369</td>\n",
       "      <td>0</td>\n",
       "      <td>3</td>\n",
       "      <td>3436795.2</td>\n",
       "    </tr>\n",
       "    <tr>\n",
       "      <th>1</th>\n",
       "      <td>1</td>\n",
       "      <td>95145</td>\n",
       "      <td>60</td>\n",
       "      <td>0</td>\n",
       "      <td>1</td>\n",
       "      <td>60</td>\n",
       "      <td>34773</td>\n",
       "      <td>1</td>\n",
       "      <td>4</td>\n",
       "      <td>2000</td>\n",
       "      <td>0</td>\n",
       "      <td>1</td>\n",
       "      <td>729</td>\n",
       "      <td>4496</td>\n",
       "      <td>277</td>\n",
       "      <td>0</td>\n",
       "      <td>6</td>\n",
       "      <td>9519958.0</td>\n",
       "    </tr>\n",
       "    <tr>\n",
       "      <th>2</th>\n",
       "      <td>2</td>\n",
       "      <td>92661</td>\n",
       "      <td>45</td>\n",
       "      <td>1</td>\n",
       "      <td>1</td>\n",
       "      <td>62</td>\n",
       "      <td>45457</td>\n",
       "      <td>4</td>\n",
       "      <td>8</td>\n",
       "      <td>2020</td>\n",
       "      <td>1</td>\n",
       "      <td>1</td>\n",
       "      <td>7473</td>\n",
       "      <td>8953</td>\n",
       "      <td>245</td>\n",
       "      <td>1</td>\n",
       "      <td>9</td>\n",
       "      <td>9276448.1</td>\n",
       "    </tr>\n",
       "    <tr>\n",
       "      <th>3</th>\n",
       "      <td>3</td>\n",
       "      <td>97184</td>\n",
       "      <td>99</td>\n",
       "      <td>0</td>\n",
       "      <td>0</td>\n",
       "      <td>59</td>\n",
       "      <td>15113</td>\n",
       "      <td>1</td>\n",
       "      <td>1</td>\n",
       "      <td>2000</td>\n",
       "      <td>0</td>\n",
       "      <td>1</td>\n",
       "      <td>6424</td>\n",
       "      <td>8522</td>\n",
       "      <td>256</td>\n",
       "      <td>1</td>\n",
       "      <td>9</td>\n",
       "      <td>9725732.2</td>\n",
       "    </tr>\n",
       "    <tr>\n",
       "      <th>4</th>\n",
       "      <td>4</td>\n",
       "      <td>61752</td>\n",
       "      <td>100</td>\n",
       "      <td>0</td>\n",
       "      <td>0</td>\n",
       "      <td>57</td>\n",
       "      <td>64245</td>\n",
       "      <td>8</td>\n",
       "      <td>4</td>\n",
       "      <td>2018</td>\n",
       "      <td>1</td>\n",
       "      <td>0</td>\n",
       "      <td>7151</td>\n",
       "      <td>2786</td>\n",
       "      <td>863</td>\n",
       "      <td>0</td>\n",
       "      <td>7</td>\n",
       "      <td>6181908.8</td>\n",
       "    </tr>\n",
       "  </tbody>\n",
       "</table>\n",
       "</div>"
      ],
      "text/plain": [
       "   id  squareMeters  numberOfRooms  hasYard  hasPool  floors  cityCode  \\\n",
       "0   0         34291             24        1        0      47     35693   \n",
       "1   1         95145             60        0        1      60     34773   \n",
       "2   2         92661             45        1        1      62     45457   \n",
       "3   3         97184             99        0        0      59     15113   \n",
       "4   4         61752            100        0        0      57     64245   \n",
       "\n",
       "   cityPartRange  numPrevOwners  made  isNewBuilt  hasStormProtector  \\\n",
       "0              2              1  2000           0                  1   \n",
       "1              1              4  2000           0                  1   \n",
       "2              4              8  2020           1                  1   \n",
       "3              1              1  2000           0                  1   \n",
       "4              8              4  2018           1                  0   \n",
       "\n",
       "   basement  attic  garage  hasStorageRoom  hasGuestRoom      price  \n",
       "0         8   5196     369               0             3  3436795.2  \n",
       "1       729   4496     277               0             6  9519958.0  \n",
       "2      7473   8953     245               1             9  9276448.1  \n",
       "3      6424   8522     256               1             9  9725732.2  \n",
       "4      7151   2786     863               0             7  6181908.8  "
      ]
     },
     "execution_count": 2,
     "metadata": {},
     "output_type": "execute_result"
    }
   ],
   "source": [
    "# Read in train data\n",
    "df_train = pd.read_csv('/kaggle/input/playground-series-s3e6/train.csv')\n",
    "df_train.head()"
   ]
  },
  {
   "cell_type": "code",
   "execution_count": 3,
   "id": "7ac47617",
   "metadata": {
    "execution": {
     "iopub.execute_input": "2023-02-17T13:17:23.373808Z",
     "iopub.status.busy": "2023-02-17T13:17:23.373317Z",
     "iopub.status.idle": "2023-02-17T13:17:23.448279Z",
     "shell.execute_reply": "2023-02-17T13:17:23.446525Z"
    },
    "papermill": {
     "duration": 0.084855,
     "end_time": "2023-02-17T13:17:23.451675",
     "exception": false,
     "start_time": "2023-02-17T13:17:23.366820",
     "status": "completed"
    },
    "tags": []
   },
   "outputs": [
    {
     "data": {
      "text/html": [
       "<div>\n",
       "<style scoped>\n",
       "    .dataframe tbody tr th:only-of-type {\n",
       "        vertical-align: middle;\n",
       "    }\n",
       "\n",
       "    .dataframe tbody tr th {\n",
       "        vertical-align: top;\n",
       "    }\n",
       "\n",
       "    .dataframe thead th {\n",
       "        text-align: right;\n",
       "    }\n",
       "</style>\n",
       "<table border=\"1\" class=\"dataframe\">\n",
       "  <thead>\n",
       "    <tr style=\"text-align: right;\">\n",
       "      <th></th>\n",
       "      <th>id</th>\n",
       "      <th>squareMeters</th>\n",
       "      <th>numberOfRooms</th>\n",
       "      <th>hasYard</th>\n",
       "      <th>hasPool</th>\n",
       "      <th>floors</th>\n",
       "      <th>cityCode</th>\n",
       "      <th>cityPartRange</th>\n",
       "      <th>numPrevOwners</th>\n",
       "      <th>made</th>\n",
       "      <th>isNewBuilt</th>\n",
       "      <th>hasStormProtector</th>\n",
       "      <th>basement</th>\n",
       "      <th>attic</th>\n",
       "      <th>garage</th>\n",
       "      <th>hasStorageRoom</th>\n",
       "      <th>hasGuestRoom</th>\n",
       "    </tr>\n",
       "  </thead>\n",
       "  <tbody>\n",
       "    <tr>\n",
       "      <th>0</th>\n",
       "      <td>22730</td>\n",
       "      <td>47580</td>\n",
       "      <td>89</td>\n",
       "      <td>0</td>\n",
       "      <td>1</td>\n",
       "      <td>8</td>\n",
       "      <td>54830</td>\n",
       "      <td>5</td>\n",
       "      <td>3</td>\n",
       "      <td>1995</td>\n",
       "      <td>0</td>\n",
       "      <td>0</td>\n",
       "      <td>6885</td>\n",
       "      <td>8181</td>\n",
       "      <td>241</td>\n",
       "      <td>0</td>\n",
       "      <td>8</td>\n",
       "    </tr>\n",
       "    <tr>\n",
       "      <th>1</th>\n",
       "      <td>22731</td>\n",
       "      <td>62083</td>\n",
       "      <td>38</td>\n",
       "      <td>0</td>\n",
       "      <td>0</td>\n",
       "      <td>87</td>\n",
       "      <td>8576</td>\n",
       "      <td>10</td>\n",
       "      <td>3</td>\n",
       "      <td>1994</td>\n",
       "      <td>1</td>\n",
       "      <td>1</td>\n",
       "      <td>4601</td>\n",
       "      <td>9237</td>\n",
       "      <td>393</td>\n",
       "      <td>1</td>\n",
       "      <td>4</td>\n",
       "    </tr>\n",
       "    <tr>\n",
       "      <th>2</th>\n",
       "      <td>22732</td>\n",
       "      <td>90499</td>\n",
       "      <td>75</td>\n",
       "      <td>1</td>\n",
       "      <td>1</td>\n",
       "      <td>37</td>\n",
       "      <td>62454</td>\n",
       "      <td>9</td>\n",
       "      <td>6</td>\n",
       "      <td>1997</td>\n",
       "      <td>0</td>\n",
       "      <td>1</td>\n",
       "      <td>7454</td>\n",
       "      <td>2680</td>\n",
       "      <td>305</td>\n",
       "      <td>0</td>\n",
       "      <td>2</td>\n",
       "    </tr>\n",
       "    <tr>\n",
       "      <th>3</th>\n",
       "      <td>22733</td>\n",
       "      <td>16354</td>\n",
       "      <td>47</td>\n",
       "      <td>1</td>\n",
       "      <td>1</td>\n",
       "      <td>9</td>\n",
       "      <td>9262</td>\n",
       "      <td>6</td>\n",
       "      <td>5</td>\n",
       "      <td>2019</td>\n",
       "      <td>1</td>\n",
       "      <td>1</td>\n",
       "      <td>705</td>\n",
       "      <td>5097</td>\n",
       "      <td>122</td>\n",
       "      <td>1</td>\n",
       "      <td>5</td>\n",
       "    </tr>\n",
       "    <tr>\n",
       "      <th>4</th>\n",
       "      <td>22734</td>\n",
       "      <td>67510</td>\n",
       "      <td>8</td>\n",
       "      <td>0</td>\n",
       "      <td>0</td>\n",
       "      <td>55</td>\n",
       "      <td>24112</td>\n",
       "      <td>3</td>\n",
       "      <td>7</td>\n",
       "      <td>2014</td>\n",
       "      <td>1</td>\n",
       "      <td>1</td>\n",
       "      <td>3715</td>\n",
       "      <td>7979</td>\n",
       "      <td>401</td>\n",
       "      <td>1</td>\n",
       "      <td>9</td>\n",
       "    </tr>\n",
       "  </tbody>\n",
       "</table>\n",
       "</div>"
      ],
      "text/plain": [
       "      id  squareMeters  numberOfRooms  hasYard  hasPool  floors  cityCode  \\\n",
       "0  22730         47580             89        0        1       8     54830   \n",
       "1  22731         62083             38        0        0      87      8576   \n",
       "2  22732         90499             75        1        1      37     62454   \n",
       "3  22733         16354             47        1        1       9      9262   \n",
       "4  22734         67510              8        0        0      55     24112   \n",
       "\n",
       "   cityPartRange  numPrevOwners  made  isNewBuilt  hasStormProtector  \\\n",
       "0              5              3  1995           0                  0   \n",
       "1             10              3  1994           1                  1   \n",
       "2              9              6  1997           0                  1   \n",
       "3              6              5  2019           1                  1   \n",
       "4              3              7  2014           1                  1   \n",
       "\n",
       "   basement  attic  garage  hasStorageRoom  hasGuestRoom  \n",
       "0      6885   8181     241               0             8  \n",
       "1      4601   9237     393               1             4  \n",
       "2      7454   2680     305               0             2  \n",
       "3       705   5097     122               1             5  \n",
       "4      3715   7979     401               1             9  "
      ]
     },
     "execution_count": 3,
     "metadata": {},
     "output_type": "execute_result"
    }
   ],
   "source": [
    "# Read in test data\n",
    "df_test = pd.read_csv('/kaggle/input/playground-series-s3e6/test.csv')\n",
    "df_test.head()"
   ]
  },
  {
   "cell_type": "code",
   "execution_count": 4,
   "id": "88ded26f",
   "metadata": {
    "execution": {
     "iopub.execute_input": "2023-02-17T13:17:23.464317Z",
     "iopub.status.busy": "2023-02-17T13:17:23.463806Z",
     "iopub.status.idle": "2023-02-17T13:17:23.500830Z",
     "shell.execute_reply": "2023-02-17T13:17:23.499159Z"
    },
    "papermill": {
     "duration": 0.04746,
     "end_time": "2023-02-17T13:17:23.504304",
     "exception": false,
     "start_time": "2023-02-17T13:17:23.456844",
     "status": "completed"
    },
    "tags": []
   },
   "outputs": [
    {
     "name": "stdout",
     "output_type": "stream",
     "text": [
      "<class 'pandas.core.frame.DataFrame'>\n",
      "RangeIndex: 22730 entries, 0 to 22729\n",
      "Data columns (total 18 columns):\n",
      " #   Column             Non-Null Count  Dtype  \n",
      "---  ------             --------------  -----  \n",
      " 0   id                 22730 non-null  int64  \n",
      " 1   squareMeters       22730 non-null  int64  \n",
      " 2   numberOfRooms      22730 non-null  int64  \n",
      " 3   hasYard            22730 non-null  int64  \n",
      " 4   hasPool            22730 non-null  int64  \n",
      " 5   floors             22730 non-null  int64  \n",
      " 6   cityCode           22730 non-null  int64  \n",
      " 7   cityPartRange      22730 non-null  int64  \n",
      " 8   numPrevOwners      22730 non-null  int64  \n",
      " 9   made               22730 non-null  int64  \n",
      " 10  isNewBuilt         22730 non-null  int64  \n",
      " 11  hasStormProtector  22730 non-null  int64  \n",
      " 12  basement           22730 non-null  int64  \n",
      " 13  attic              22730 non-null  int64  \n",
      " 14  garage             22730 non-null  int64  \n",
      " 15  hasStorageRoom     22730 non-null  int64  \n",
      " 16  hasGuestRoom       22730 non-null  int64  \n",
      " 17  price              22730 non-null  float64\n",
      "dtypes: float64(1), int64(17)\n",
      "memory usage: 3.1 MB\n"
     ]
    }
   ],
   "source": [
    "# Basic info\n",
    "df_train.info()"
   ]
  },
  {
   "cell_type": "markdown",
   "id": "a4f88f02",
   "metadata": {
    "papermill": {
     "duration": 0.004626,
     "end_time": "2023-02-17T13:17:23.514203",
     "exception": false,
     "start_time": "2023-02-17T13:17:23.509577",
     "status": "completed"
    },
    "tags": []
   },
   "source": [
    "**Clearly, the id column should go. Besides that, everything can stay for now.**"
   ]
  },
  {
   "cell_type": "code",
   "execution_count": 5,
   "id": "8e36493a",
   "metadata": {
    "execution": {
     "iopub.execute_input": "2023-02-17T13:17:23.526105Z",
     "iopub.status.busy": "2023-02-17T13:17:23.525644Z",
     "iopub.status.idle": "2023-02-17T13:17:23.540597Z",
     "shell.execute_reply": "2023-02-17T13:17:23.539001Z"
    },
    "papermill": {
     "duration": 0.024374,
     "end_time": "2023-02-17T13:17:23.543576",
     "exception": false,
     "start_time": "2023-02-17T13:17:23.519202",
     "status": "completed"
    },
    "tags": []
   },
   "outputs": [],
   "source": [
    "# Drop id from train data\n",
    "df_train.drop('id', axis=1, inplace=True)\n",
    "\n",
    "# Store the test id column before dropping for submission purposes\n",
    "test_id = df_test['id']\n",
    "df_test.drop('id', axis=1, inplace=True)"
   ]
  },
  {
   "cell_type": "markdown",
   "id": "d3ad4f6a",
   "metadata": {
    "papermill": {
     "duration": 0.004711,
     "end_time": "2023-02-17T13:17:23.553399",
     "exception": false,
     "start_time": "2023-02-17T13:17:23.548688",
     "status": "completed"
    },
    "tags": []
   },
   "source": [
    "**We will train an XGBRegressor on the entire training data using default parameters**"
   ]
  },
  {
   "cell_type": "code",
   "execution_count": 6,
   "id": "12cf9b07",
   "metadata": {
    "execution": {
     "iopub.execute_input": "2023-02-17T13:17:23.566085Z",
     "iopub.status.busy": "2023-02-17T13:17:23.565134Z",
     "iopub.status.idle": "2023-02-17T13:17:25.583348Z",
     "shell.execute_reply": "2023-02-17T13:17:25.582148Z"
    },
    "papermill": {
     "duration": 2.027854,
     "end_time": "2023-02-17T13:17:25.586277",
     "exception": false,
     "start_time": "2023-02-17T13:17:23.558423",
     "status": "completed"
    },
    "tags": []
   },
   "outputs": [
    {
     "data": {
      "text/plain": [
       "XGBRegressor(base_score=0.5, booster='gbtree', callbacks=None,\n",
       "             colsample_bylevel=1, colsample_bynode=1, colsample_bytree=1,\n",
       "             early_stopping_rounds=None, enable_categorical=False,\n",
       "             eval_metric=None, gamma=0, gpu_id=-1, grow_policy='depthwise',\n",
       "             importance_type=None, interaction_constraints='',\n",
       "             learning_rate=0.300000012, max_bin=256, max_cat_to_onehot=4,\n",
       "             max_delta_step=0, max_depth=6, max_leaves=0, min_child_weight=1,\n",
       "             missing=nan, monotone_constraints='()', n_estimators=100, n_jobs=0,\n",
       "             num_parallel_tree=1, predictor='auto', random_state=0, reg_alpha=0,\n",
       "             reg_lambda=1, ...)"
      ]
     },
     "execution_count": 6,
     "metadata": {},
     "output_type": "execute_result"
    }
   ],
   "source": [
    "# Model: XGBRegressor\n",
    "X = df_train.drop('price', axis=1)\n",
    "y = df_train['price']\n",
    "\n",
    "# Call upon thy regressor\n",
    "xgbr = XGBRegressor()\n",
    "\n",
    "# Fit thy model\n",
    "xgbr.fit(X, y)\n"
   ]
  },
  {
   "cell_type": "code",
   "execution_count": 7,
   "id": "68ae23e5",
   "metadata": {
    "execution": {
     "iopub.execute_input": "2023-02-17T13:17:25.599360Z",
     "iopub.status.busy": "2023-02-17T13:17:25.598795Z",
     "iopub.status.idle": "2023-02-17T13:17:25.856904Z",
     "shell.execute_reply": "2023-02-17T13:17:25.855433Z"
    },
    "papermill": {
     "duration": 0.268351,
     "end_time": "2023-02-17T13:17:25.860004",
     "exception": false,
     "start_time": "2023-02-17T13:17:25.591653",
     "status": "completed"
    },
    "tags": []
   },
   "outputs": [
    {
     "data": {
      "text/plain": [
       "array([4755510, 6213942, 9077159, 1642430, 6756827,  122364, 9924012,\n",
       "       5280922, 5586454, 9837013, 6984843, 6100250, 5205847, 1096391,\n",
       "       5103403, 3408830, 5802486, 4246467, 3515929, 7051813])"
      ]
     },
     "execution_count": 7,
     "metadata": {},
     "output_type": "execute_result"
    }
   ],
   "source": [
    "# Predictions\n",
    "preds = xgbr.predict(df_test).astype(int)\n",
    "submit(preds=preds, submission_num='1')\n",
    "\n",
    "preds[0:20]"
   ]
  },
  {
   "cell_type": "code",
   "execution_count": 8,
   "id": "bb13add5",
   "metadata": {
    "execution": {
     "iopub.execute_input": "2023-02-17T13:17:25.872968Z",
     "iopub.status.busy": "2023-02-17T13:17:25.872488Z",
     "iopub.status.idle": "2023-02-17T13:17:25.924871Z",
     "shell.execute_reply": "2023-02-17T13:17:25.923055Z"
    },
    "papermill": {
     "duration": 0.063833,
     "end_time": "2023-02-17T13:17:25.929351",
     "exception": false,
     "start_time": "2023-02-17T13:17:25.865518",
     "status": "completed"
    },
    "tags": []
   },
   "outputs": [
    {
     "name": "stdout",
     "output_type": "stream",
     "text": [
      "Accuracy: 99.09 %.\n",
      "explained_variance:  1.0\n",
      "r2:  1.0\n",
      "MAE:  9445.3713\n",
      "MSE:  352129861.4569\n",
      "RMSE:  18765.1235\n"
     ]
    }
   ],
   "source": [
    "# Predictions on training set\n",
    "train_preds = xgbr.predict(X)\n",
    "\n",
    "def regression_results(y_test, y_pred):\n",
    "\n",
    "    # Regression metrics\n",
    "    explained_variance=metrics.explained_variance_score(y_test, y_pred)\n",
    "    mean_absolute_error=metrics.mean_absolute_error(y_test, y_pred)\n",
    "    mse=metrics.mean_squared_error(y_test, y_pred)\n",
    "    #mean_squared_log_error=metrics.mean_squared_log_error(y_test, y_pred)\n",
    "    median_absolute_error=metrics.median_absolute_error(y_test, y_pred)\n",
    "    r2=metrics.r2_score(y_test, y_pred)\n",
    "    errors = abs(y_pred - y_test)\n",
    "    mape = 100 * (errors / y_test)\n",
    "    accuracy = 100 - np.mean(mape)\n",
    "\n",
    "    print('Accuracy:', round(accuracy, 2), '%.')\n",
    "    print('explained_variance: ', round(explained_variance,4))    \n",
    "    #print('mean_squared_log_error: ', round(mean_squared_log_error,4))\n",
    "    print('r2: ', round(r2,4))\n",
    "    print('MAE: ', round(mean_absolute_error,4))\n",
    "    print('MSE: ', round(mse,4))\n",
    "    print('RMSE: ', round(np.sqrt(mse),4))\n",
    "    \n",
    "regression_results(y, train_preds)"
   ]
  },
  {
   "cell_type": "markdown",
   "id": "a43a9452",
   "metadata": {
    "papermill": {
     "duration": 0.004964,
     "end_time": "2023-02-17T13:17:25.940277",
     "exception": false,
     "start_time": "2023-02-17T13:17:25.935313",
     "status": "completed"
    },
    "tags": []
   },
   "source": [
    "The RMSE on test data is about 9 - 10x higher than on the training data. We're overfitting! (Shocker, I know).\n",
    "This is a good baseline to improve upon. "
   ]
  },
  {
   "cell_type": "markdown",
   "id": "c864111e",
   "metadata": {
    "papermill": {
     "duration": 0.005187,
     "end_time": "2023-02-17T13:17:25.950858",
     "exception": false,
     "start_time": "2023-02-17T13:17:25.945671",
     "status": "completed"
    },
    "tags": []
   },
   "source": []
  }
 ],
 "metadata": {
  "kernelspec": {
   "display_name": "Python 3",
   "language": "python",
   "name": "python3"
  },
  "language_info": {
   "codemirror_mode": {
    "name": "ipython",
    "version": 3
   },
   "file_extension": ".py",
   "mimetype": "text/x-python",
   "name": "python",
   "nbconvert_exporter": "python",
   "pygments_lexer": "ipython3",
   "version": "3.7.12"
  },
  "papermill": {
   "default_parameters": {},
   "duration": 16.2856,
   "end_time": "2023-02-17T13:17:27.086756",
   "environment_variables": {},
   "exception": null,
   "input_path": "__notebook__.ipynb",
   "output_path": "__notebook__.ipynb",
   "parameters": {},
   "start_time": "2023-02-17T13:17:10.801156",
   "version": "2.3.4"
  }
 },
 "nbformat": 4,
 "nbformat_minor": 5
}
